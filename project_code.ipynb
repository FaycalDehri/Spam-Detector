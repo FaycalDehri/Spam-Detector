{
 "cells": [
  {
   "cell_type": "markdown",
   "source": [
    "# The first step is the preprocessing\n",
    "\n",
    " We import the needed libraries :\n"
   ],
   "metadata": {
    "collapsed": false
   }
  },
  {
   "cell_type": "code",
   "execution_count": 32,
   "outputs": [],
   "source": [
    "import os\n",
    "import matplotlib.pyplot as plt\n",
    "import numpy as np\n",
    "import regex as re\n",
    "from nltk import tokenize, stem, corpus, download\n",
    "from charset_normalizer import from_path"
   ],
   "metadata": {
    "collapsed": false
   }
  },
  {
   "cell_type": "markdown",
   "source": [
    "We create a methode for loading the data, the methode will return a list containing the contents of each file"
   ],
   "metadata": {
    "collapsed": false
   }
  },
  {
   "cell_type": "code",
   "execution_count": 2,
   "outputs": [],
   "source": [
    "def load_data(path) :\n",
    "    data = []\n",
    "    files = os.listdir(path)\n",
    "    for file in files :\n",
    "        f = open(path+file,encoding=\"ISO-8859-1\")\n",
    "        data.append(f.read())\n",
    "        f.close()\n",
    "    return data"
   ],
   "metadata": {
    "collapsed": false
   }
  },
  {
   "cell_type": "markdown",
   "source": [
    "We call this methode on the 3 directories that are contained in our dataset"
   ],
   "metadata": {
    "collapsed": false
   }
  },
  {
   "cell_type": "code",
   "execution_count": 3,
   "outputs": [
    {
     "name": "stdout",
     "output_type": "stream",
     "text": [
      "There are 1396 Spam emails in the dataset\n",
      "There are 2801 Legitimate emails in the dataset\n"
     ]
    }
   ],
   "source": [
    "spam = load_data(r'C:\\Users\\Fayçal\\OneDrive\\Bureau\\SII\\S2\\AARN\\TP\\Project\\spam_2\\spam_2/')\n",
    "ham = load_data(r'C:\\Users\\Fayçal\\OneDrive\\Bureau\\SII\\S2\\AARN\\TP\\Project\\hard_ham\\hard_ham/') + load_data(r'C:\\Users\\Fayçal\\OneDrive\\Bureau\\SII\\S2\\AARN\\TP\\Project\\easy_ham\\easy_ham/')\n",
    "\n",
    "print( 'There are ' + str(len(spam))+' Spam emails in the dataset')\n",
    "print( 'There are ' + str(len(ham))+' Legitimate emails in the dataset')"
   ],
   "metadata": {
    "collapsed": false
   }
  },
  {
   "cell_type": "markdown",
   "source": [
    "Here is a visualization of the data"
   ],
   "metadata": {
    "collapsed": false
   }
  },
  {
   "cell_type": "code",
   "execution_count": 4,
   "outputs": [
    {
     "data": {
      "text/plain": "<Figure size 1200x500 with 1 Axes>",
      "image/png": "[encoded data removed]"
     },
     "metadata": {},
     "output_type": "display_data"
    }
   ],
   "source": [
    "data = [len(ham)/len(ham+spam), len(spam)/len(ham+spam)]\n",
    "labels = ['Legitimate', 'spam']\n",
    "colors = ['blue', 'red']\n",
    "plt.figure(figsize=(12, 5))\n",
    "plt.pie(data, labels = labels, autopct='%.0f%%', colors=colors)\n",
    "plt.show()"
   ],
   "metadata": {
    "collapsed": false
   }
  },
  {
   "cell_type": "markdown",
   "source": [
    "We take a look at a random email to see its structure :"
   ],
   "metadata": {
    "collapsed": false
   }
  },
  {
   "cell_type": "code",
   "execution_count": 9,
   "outputs": [
    {
     "name": "stdout",
     "output_type": "stream",
     "text": [
      "From cvru@hotmail.com  Mon Jun 24 17:06:48 2002\n",
      "Return-Path: cvru@hotmail.com\n",
      "Delivery-Date: Mon May 27 11:44:59 2002\n",
      "Received: from mandark.labs.netnoteinc.com ([213.105.180.140]) by\n",
      "    dogma.slashnull.org (8.11.6/8.11.6) with ESMTP id g4RAiwe07298 for\n",
      "    <jm@jmason.org>; Mon, 27 May 2002 11:44:58 +0100\n",
      "Received: from mail.dxr.com.cn ([218.22.96.3]) by\n",
      "    mandark.labs.netnoteinc.com (8.11.2/8.11.2) with ESMTP id g4RAis724407 for\n",
      "    <jm@netnoteinc.com>; Mon, 27 May 2002 11:44:56 +0100\n",
      "Received: from . [211.21.63.70] by mail.dxr.com.cn with ESMTP\n",
      "    (SMTPD32-7.05) id ACF51005A; Mon, 27 May 2002 18:39:49 +0800\n",
      "Message-Id: <000006fb15b6$0000387d$0000462d@.>\n",
      "To: <jbytes@usa.net>, <j47b@aol.com>\n",
      "Cc: <yyyy@netnoteinc.com>, <kustaava@hotmail.com>\n",
      "From: cvru@hotmail.com\n",
      "Subject: Lose 20 Pounds In 10 Days                  27540\n",
      "Date: Mon, 27 May 2002 06:53:41 -1600\n",
      "MIME-Version: 1.0\n",
      "Reply-To: cvru@hotmail.com\n",
      "X-Keywords: \n",
      "Content-Type: text/html; charset=\"iso-8859-1\"\n",
      "Content-Transfer-Encoding: quoted-printable\n",
      "\n",
      "<html>\n",
      "\n",
      "<head>\n",
      "<meta http-equiv=3D\"Content-Type\" content=3D\"text/html; charset=3Dwindows-=\n",
      "1252\">\n",
      "<meta name=3D\"GENERATOR\" content=3D\"Microsoft FrontPage 4.0\">\n",
      "<meta name=3D\"ProgId\" content=3D\"FrontPage.Editor.Document\">\n",
      "<title>LOSE WEIGHT FAST</title>\n",
      "</head>\n",
      "\n",
      "<body bgcolor=3D\"#FFFFCC\">\n",
      "\n",
      "<div align=3D\"center\">\n",
      "  <center>\n",
      "  <table border=3D\"1\" width=3D\"83%\" height=3D\"287\" bgcolor=3D\"#000080\" bor=\n",
      "dercolorlight=3D\"#FFFF99\">\n",
      "    <tr>\n",
      "      <td width=3D\"100%\" height=3D\"281\" style=3D\"color: #FFFFFF\">\n",
      "        <p align=3D\"center\">&nbsp;</p>\n",
      "        <div align=3D\"center\">\n",
      "          <center>\n",
      "          <table border=3D\"0\" width=3D\"100%\" height=3D\"74\">\n",
      "            <tr>\n",
      "              <td width=3D\"100%\" height=3D\"68\" style=3D\"color: #000080\" al=\n",
      "ign=3D\"center\" bgcolor=3D\"#FFFFCC\"><b><font size=3D\"5\" face=3D\"Century Got=\n",
      "hic\">LOSE WEIGHT FAST, WITHOUT SPECIAL DIETS OR EXPENSIVE FOODS\n",
      "                &amp; NO STARVING YOURSELF!</font></b></td>\n",
      "            </tr>\n",
      "          </table>\n",
      "          </center>\n",
      "        </div>\n",
      "        <p align=3D\"center\"><font face=3D\"Arial\">\n",
      "        If you are tired of starvation diets, body wraps, fad diets, gruel=\n",
      "ing exercise, or hypnosis to lose weight then you have just made the best =\n",
      "choice of your life by\n",
      "        <b> reading this email!</b><br>\n",
      "        <br>\n",
      "        We're not kidding, and as you will see we back it up with our <b>L=\n",
      "IFETIME MONEY-BACK GUARANTEE!</b><br>\n",
      "<br>        <b><font color=3D\"#FFFF99\" size=3D\"4\">        NEW! EXTREME POW=\n",
      "ER PLUS<br>        -Proven\n",
      "        Weight Loss System-</font></b>        <br>\n",
      "        For More Details or To Order Now Click our URL!<br> <font size=3D\"=\n",
      "5\"><b><a href=3D\"http://www.2002dietspecials.com/index.shtml\" style=3D\"col=\n",
      "or: #FFFF00\">http://LOSEweightFAST!/ad.html</a></b></font></font></p>\n",
      "        <p align=3D\"center\"><font face=3D\"Arial\"><font size=3D\"2\">Some Bro=\n",
      "wsers do not\n",
      "        accept hyperlinks, so if the above link does not work,<br> cut &am=\n",
      "p; paste\n",
      "        it in your browser's url box.<br></font>\n",
      "        <br>\n",
      "        <b>\n",
      " <font size=3D\"5\">\n",
      " LIFETIME MONEY BACK GUARANTEE!</font></b><br>It's almost to good to be tr=\n",
      "ue!<br> Extreme Power Plus is here just in time! <br><font color=3D\"#FFFF0=\n",
      "0\"><b><i><font size=3D\"4\">ORDER\n",
      "        TODAY&amp; Get FREE SHIPPING*!!!</font></i></b><br>\n",
      "        </font>\n",
      "        <br>\n",
      "        <font size=3D\"4\">\n",
      "        <a href=3D\"http://www.2002dietspecials.com/index.shtml\" style=3D\"c=\n",
      "olor: #FFFFFF\"><b>&nbsp;</b></a></font><a href=3D\"http://www.2002dietspeci=\n",
      "als.com/index.shtml\" style=3D\"color: #FFFFFF\"><b><font size=3D\"4\">CLICK\n",
      "        HERE http://LOSEweightFAST!/ad.html</font></b></a><br>\n",
      "        <br>\n",
      "        <font size=3D\"2\">\n",
      "        As with all dietary supplements or exercise program,<br> please co=\n",
      "nsult your physician for their advice.<br>\n",
      "<br>        </font><font size=3D\"1\">*Note: On Orders of 3 bottles or more =\n",
      "only (US\n",
      "        orders only).</font></font></p>\n",
      "        <div align=3D\"center\">\n",
      "          <center>\n",
      "          <table border=3D\"0\" width=3D\"100%\" height=3D\"37\">\n",
      "            <tr>\n",
      "              <td width=3D\"100%\" height=3D\"31\" style=3D\"font-family: Arial=\n",
      "; font-size: 8pt; color: #CCCC00\" align=3D\"center\"><font face=3D\"Arial\" si=\n",
      "ze=3D\"1\" color=3D\"#CCCC00\">You\n",
      "                are receiving this special offer because you have provided\n",
      "                permission to receive email communications regarding speci=\n",
      "al\n",
      "                online promotions or offers. To discontinue any further me=\n",
      "ssages\n",
      "                from this company, please <a href=3D\"mailto:print2@btamail=\n",
      "net.cn?Subject=3DUNSUBSCRIBE\" style=3D\"color: #FFFFFF\">Click\n",
      "                Here to Unsubscribe from our Mailing List</a></font></td>\n",
      "            </tr>\n",
      "          </table>\n",
      "          </center>\n",
      "        </div>\n",
      "      </td>\n",
      "    </tr>\n",
      "  </table>\n",
      "  </center>\n",
      "</div>\n",
      "\n",
      "</body>\n",
      "\n",
      "</html>\n",
      "\n",
      "\n",
      "\n",
      "\n"
     ]
    }
   ],
   "source": [
    "import random\n",
    "print(random.choice(spam))"
   ],
   "metadata": {
    "collapsed": false
   }
  },
  {
   "cell_type": "markdown",
   "source": [
    "We start cleaning the files to get a clear text"
   ],
   "metadata": {
    "collapsed": false
   }
  },
  {
   "cell_type": "code",
   "execution_count": 91,
   "outputs": [],
   "source": [
    "def clean_email(path):\n",
    "\n",
    "    patterns = {\n",
    "        r\"<(.|\\n)+?>\": \" \",  # Regex balise HTML\n",
    "        r\"^\\s*(To:|From:|Subject:|Date:|Content\\W(.*?):)\" : \" \", #Regex mot cles d'un email (subjec, to, from ...etc)\n",
    "    }\n",
    "    combined_pattern = re.compile(\"|\".join(patterns.keys()))  # Combine all patterns into one regex pattern\n",
    "\n",
    "    tokensList = []\n",
    "    fileName = path.split('/')[-1]\n",
    "    encoding = from_path(fileName).best().encoding\n",
    "\n",
    "    with open(fileName, \"r\", encoding=encoding) as email:\n",
    "        content = ''.join(line for line in email if not re.search(combined_pattern, line))\n",
    "\n",
    "    return content\n"
   ],
   "metadata": {
    "collapsed": false
   }
  },
  {
   "cell_type": "markdown",
   "source": [
    "We print the cleaned email to inspect the content :"
   ],
   "metadata": {
    "collapsed": false
   }
  },
  {
   "cell_type": "code",
   "execution_count": 92,
   "outputs": [
    {
     "name": "stdout",
     "output_type": "stream",
     "text": [
      "From zonepost11@freemail.hu  Wed Aug  1 23:31:50 2001\n",
      "Delivered-To: yyyy@netnoteinc.com\n",
      "Received: from mailman.accessonline.com.au (alex-wg.accessonline.com.au\n",
      "    [203.42.79.4]) by mail.netnoteinc.com (Postfix) with ESMTP id 83A29114088\n",
      "Received: from webman.accessonline.com.au ([203.42.79.8]) by\n",
      "    mailman.accessonline.com.au with SMTP (Microsoft Exchange Internet Mail\n",
      "    Service Version 5.5.2650.21) id QCJTFPZ2; Thu, 2 Aug 2001 07:55:12 +1000\n",
      "Received: from 64.3.210.238 - 64.3.210.238 by webman.accessonline.com.au\n",
      "    with Microsoft SMTPSVC(5.5.1774.114.11); Thu, 2 Aug 2001 07:53:02 +1000\n",
      "MIME-Version: 1.0\n",
      "X-Priority: 3\n",
      "X-Msmail-Priority: Normal\n",
      "\n",
      "\n",
      "\n",
      "China's rapid economic growth, as ranked by the World Bank, is TEN TIMES \n",
      "FASTER than the world economy. \n",
      "\n",
      "The only thing US investors should be asking themselves is, \"How can I \n",
      "participate in this explosion?\" We have the answer. Texas-based \n",
      "CommunicateNow.com, Inc. (OTC BB trading symbol: CMNW) may unlock \n",
      "China's amazing potential.\n",
      "\n",
      "INVESTOR'S TIMING OPPORTUNITY\n",
      "\n",
      "Texas-based CommunicationsNow.com Inc. (OTCBB trading symbol: CMNW) \n",
      "announces today that a top representative from CMNW will be traveling to \n",
      "China in an attempt to negotiate with one of China's top manufacturers of\n",
      "high pressure laminate products for CMNW to act as a worldwide distributor\n",
      "of its products. You know what the Chinese did to the global steel market:\n",
      "they captured it! China is now set to conquer another major commodity, and\n",
      "you can profit right along with them. This is just one example of how CMNW \n",
      "may make company history.\n",
      "\n",
      "Opening China's Door\n",
      "\n",
      "Using hard-won experience gained in the survivor-takes-all US Internet market, \n",
      "CMNW developed technology that makes it possible for China's millions of \n",
      "entrepreneurs, small and medium sized companies, and major corporations to \n",
      "do business worldwide via the Internet. Chinese makers of porcelain, for \n",
      "example, can deal direct with US consumers and retailers. Say \"goodbye\" to \n",
      "the layers of middlemen.\n",
      "\n",
      "CMNW strives to become a World Wide Wholesaler \n",
      "\n",
      "CMNW is attempting to become an International wholesaler to the world. This\n",
      "is an enormous goal. Many believe that trade with China built the world's greatest\n",
      "fortunes, from the golden age of Venice to the British Empire. Now this potential\n",
      "is being transferred to the Internet, and CMNW will attempt to capture it.\n",
      "\n",
      "CMNW puts all this into your portfolio: stability of a US-based company... \n",
      "sky-rocketing China market...convenience of a US-listed stock...dynamics of \n",
      "a growth company. \n",
      "\n",
      "*** For the latest quarterly report on CMNW, go to www.freeedgar.com *** \n",
      "\n",
      "Obviously, you cannot go back in time to the year 1901 and invest in baby US \n",
      "companies like Coca-Cola and Johnson & Johnson as they were getting started. \n",
      "But you can grab the modern day equivalent. That's right. The growth \n",
      "potential in China at this very minute is like the United States at the start \n",
      "of the 20th century -- perhaps even greater. \n",
      "\n",
      "There's much more to the CMNW story. Including a major expansion into Mexico. \n",
      "\n",
      "To SUBSCRIBE to the future communications, please click on this link and hit send:\n",
      "mailto:abc111@uole.com.ve?subject=INFO-CMNW\n",
      "\n",
      "================================================================= \n",
      "Please double click on the below link to be excluded from further communication. \n",
      "mailto:def222@uole.com.ve?subject=delete-CMNW \n",
      "=================================================================\n",
      "\n",
      "DISCLAIMER: Network Media Services provides an e-mail delivery service on behalf of securities \n",
      "issuers and publishers that circulate information about a company or the company’s securities. \n",
      "Network Media Services has received twenty thousand shares of the common stock of \n",
      "CommunicateNow.com, Inc.as payment to circulate this report via electronic mail to e-mail\n",
      "addresses contained in Network Media Services database. To read entire disclaimer please\n",
      "click here: http://members.tripod.de/mani20/index1.html/\n",
      "\n",
      "\n",
      "\n",
      "\n",
      "\n"
     ]
    }
   ],
   "source": [
    "# This is a random file used as an example\n",
    "print(clean_email(r'C:\\Users\\Fayçal\\OneDrive\\Bureau\\SII\\S2\\AARN\\TP\\Project\\spam_2\\spam_2\\00013.372ec9dc663418ca71f7d880a76f117a'))"
   ],
   "metadata": {
    "collapsed": false
   }
  },
  {
   "cell_type": "markdown",
   "source": [
    "Now we have to do the preprocessing of the email and tokenize it :"
   ],
   "metadata": {
    "collapsed": false
   }
  },
  {
   "cell_type": "code",
   "execution_count": 87,
   "outputs": [],
   "source": [
    "def preprocess(path):\n",
    "\n",
    "    adressReg = r\"\\b[\\w-]+@[\\w-]+\\.[A-Za-z]\\b\" #Regex adress email\n",
    "    urlReg = r\"https?:\\/\\/(www\\.)?[-a-zA-Z0-9@:%._\\+~#=]{1,256}\\.[a-zA-Z0-9()]{1,6}\\b([-a-zA-Z0-9()@:%_\\+.~#?&//=]*)\" #Regex URL\n",
    "\n",
    "    clearTextEmail = clean_email(path)\n",
    "    clearTextEmail = re.sub(adressReg, \" emailaddr \", clearTextEmail)\n",
    "    clearTextEmail = re.sub(urlReg, \" httpaddr \", clearTextEmail)\n",
    "    clearTextEmail = re.sub(r\"\\d+\", \" number \" , clearTextEmail)\n",
    "    clearTextEmail = re.sub(r\"$\", \" dollar \", clearTextEmail)\n",
    "\n",
    "    tokenizer = tokenize.TreebankWordTokenizer()\n",
    "    tokens = tokenizer.tokenize(clearTextEmail)\n",
    "\n",
    "    stemmer = stem.SnowballStemmer(\"english\")\n",
    "    tokens = [stemmer.stem(token) for token in tokens if token.isalpha()]\n",
    "\n",
    "\n",
    "    return tokens"
   ],
   "metadata": {
    "collapsed": false
   }
  },
  {
   "cell_type": "markdown",
   "source": [
    "We run on an example :"
   ],
   "metadata": {
    "collapsed": false
   }
  },
  {
   "cell_type": "code",
   "execution_count": 88,
   "outputs": [
    {
     "name": "stdout",
     "output_type": "stream",
     "text": [
      "['from', 'zonepost', 'number', 'wed', 'aug', 'number', 'number', 'number', 'number', 'number', 'yyyi', 'receiv', 'from', 'number', 'number', 'number', 'number', 'by', 'postfix', 'with', 'esmtp', 'id', 'number', 'a', 'number', 'receiv', 'from', 'number', 'number', 'number', 'number', 'by', 'with', 'smtp', 'microsoft', 'exchang', 'internet', 'mail', 'servic', 'version', 'number', 'number', 'number', 'number', 'id', 'qcjtfpz', 'number', 'thu', 'number', 'aug', 'number', 'number', 'number', 'number', 'number', 'receiv', 'from', 'number', 'number', 'number', 'number', 'number', 'number', 'number', 'number', 'by', 'with', 'microsoft', 'smtpsvc', 'number', 'number', 'number', 'number', 'number', 'thu', 'number', 'aug', 'number', 'number', 'number', 'number', 'number', 'number', 'number', 'number', 'normal', 'china', 'rapid', 'econom', 'growth', 'as', 'rank', 'by', 'the', 'world', 'bank', 'is', 'ten', 'time', 'faster', 'than', 'the', 'world', 'the', 'onli', 'thing', 'us', 'investor', 'should', 'be', 'ask', 'themselv', 'is', 'how', 'can', 'i', 'particip', 'in', 'this', 'explos', 'we', 'have', 'the', 'otc', 'bb', 'trade', 'symbol', 'cmnw', 'may', 'unlock', 'china', 'amaz', 'investor', 'time', 'opportun', 'otcbb', 'trade', 'symbol', 'cmnw', 'announc', 'today', 'that', 'a', 'top', 'repres', 'from', 'cmnw', 'will', 'be', 'travel', 'to', 'china', 'in', 'an', 'attempt', 'to', 'negoti', 'with', 'one', 'of', 'china', 'top', 'manufactur', 'of', 'high', 'pressur', 'lamin', 'product', 'for', 'cmnw', 'to', 'act', 'as', 'a', 'worldwid', 'distributor', 'of', 'it', 'you', 'know', 'what', 'the', 'chines', 'did', 'to', 'the', 'global', 'steel', 'market', 'they', 'captur', 'it', 'china', 'is', 'now', 'set', 'to', 'conquer', 'anoth', 'major', 'commod', 'and', 'you', 'can', 'profit', 'right', 'along', 'with', 'this', 'is', 'just', 'one', 'exampl', 'of', 'how', 'cmnw', 'may', 'make', 'compani', 'open', 'china', 'door', 'use', 'experi', 'gain', 'in', 'the', 'us', 'internet', 'market', 'cmnw', 'develop', 'technolog', 'that', 'make', 'it', 'possibl', 'for', 'china', 'million', 'of', 'entrepreneur', 'small', 'and', 'medium', 'size', 'compani', 'and', 'major', 'corpor', 'to', 'do', 'busi', 'worldwid', 'via', 'the', 'chines', 'maker', 'of', 'porcelain', 'for', 'exampl', 'can', 'deal', 'direct', 'with', 'us', 'consum', 'and', 'say', 'goodby', 'to', 'the', 'layer', 'of', 'cmnw', 'strive', 'to', 'becom', 'a', 'world', 'wide', 'wholesal', 'cmnw', 'is', 'attempt', 'to', 'becom', 'an', 'intern', 'wholesal', 'to', 'the', 'this', 'is', 'an', 'enorm', 'mani', 'believ', 'that', 'trade', 'with', 'china', 'built', 'the', 'world', 'greatest', 'fortun', 'from', 'the', 'golden', 'age', 'of', 'venic', 'to', 'the', 'british', 'now', 'this', 'potenti', 'is', 'be', 'transfer', 'to', 'the', 'internet', 'and', 'cmnw', 'will', 'attempt', 'to', 'captur', 'cmnw', 'put', 'all', 'this', 'into', 'your', 'portfolio', 'stabil', 'of', 'a', 'compani', 'china', 'market', 'conveni', 'of', 'a', 'stock', 'dynam', 'of', 'a', 'growth', 'for', 'the', 'latest', 'quarter', 'report', 'on', 'cmnw', 'go', 'to', 'obvious', 'you', 'can', 'not', 'go', 'back', 'in', 'time', 'to', 'the', 'year', 'number', 'and', 'invest', 'in', 'babi', 'us', 'compani', 'like', 'and', 'johnson', 'johnson', 'as', 'they', 'were', 'get', 'but', 'you', 'can', 'grab', 'the', 'modern', 'day', 'that', 'the', 'growth', 'potenti', 'in', 'china', 'at', 'this', 'veri', 'minut', 'is', 'like', 'the', 'unit', 'state', 'at', 'the', 'start', 'of', 'the', 'number', 'th', 'centuri', 'perhap', 'even', 'there', 'much', 'more', 'to', 'the', 'cmnw', 'includ', 'a', 'major', 'expans', 'into', 'to', 'subscrib', 'to', 'the', 'futur', 'communic', 'pleas', 'click', 'on', 'this', 'link', 'and', 'hit', 'send', 'mailto', 'abc', 'number', 'pleas', 'doubl', 'click', 'on', 'the', 'below', 'link', 'to', 'be', 'exclud', 'from', 'further', 'mailto', 'def', 'number', 'disclaim', 'network', 'media', 'servic', 'provid', 'an', 'deliveri', 'servic', 'on', 'behalf', 'of', 'secur', 'issuer', 'and', 'publish', 'that', 'circul', 'inform', 'about', 'a', 'compani', 'or', 'the', 'network', 'media', 'servic', 'has', 'receiv', 'twenti', 'thousand', 'share', 'of', 'the', 'common', 'stock', 'of', 'payment', 'to', 'circul', 'this', 'report', 'via', 'electron', 'mail', 'to', 'address', 'contain', 'in', 'network', 'media', 'servic', 'to', 'read', 'entir', 'disclaim', 'pleas', 'click', 'here', 'httpaddr', 'dollar', 'dollar']\n"
     ]
    }
   ],
   "source": [
    "# This is a random file used as an example\n",
    "print(preprocess(r'C:\\Users\\Fayçal\\OneDrive\\Bureau\\SII\\S2\\AARN\\TP\\Project\\spam_2\\spam_2\\00013.372ec9dc663418ca71f7d880a76f117a'))"
   ],
   "metadata": {
    "collapsed": false
   }
  },
  {
   "cell_type": "markdown",
   "source": [
    "First we load the path names of each of our dataset files into another file"
   ],
   "metadata": {
    "collapsed": false
   }
  },
  {
   "cell_type": "code",
   "execution_count": 119,
   "outputs": [],
   "source": [
    "import os\n",
    "\n",
    "def extract_filenames_to_txt(directory_path, output_file_path,open_mode):\n",
    "    with open(output_file_path, open_mode) as output_file:\n",
    "        for filename in os.listdir(directory_path):\n",
    "            if os.path.isfile(os.path.join(directory_path, filename)):\n",
    "                output_file.write(directory_path+'/'+ filename + '\\n')\n"
   ],
   "metadata": {
    "collapsed": false
   }
  },
  {
   "cell_type": "code",
   "execution_count": 124,
   "outputs": [],
   "source": [
    "extract_filenames_to_txt(r'spam_2/spam_2',r'pathFiles/spamPaths.txt','w')\n",
    "\n",
    "extract_filenames_to_txt(r'easy_ham/easy_ham',r'pathFiles\\hamPaths.txt','w')\n",
    "\n",
    "extract_filenames_to_txt(r'hard_ham/hard_ham',r'pathFiles\\hamPaths.txt','a')"
   ],
   "metadata": {
    "collapsed": false
   }
  },
  {
   "cell_type": "markdown",
   "source": [
    "Now we use those path files to do the preprocessing :"
   ],
   "metadata": {
    "collapsed": false
   }
  },
  {
   "cell_type": "code",
   "execution_count": 125,
   "outputs": [
    {
     "ename": "FileNotFoundError",
     "evalue": "[Errno 2] No such file or directory: '00001.317e78fa8ee2f54cd4890fdc09ba8176'",
     "output_type": "error",
     "traceback": [
      "\u001B[1;31m---------------------------------------------------------------------------\u001B[0m",
      "\u001B[1;31mFileNotFoundError\u001B[0m                         Traceback (most recent call last)",
      "Cell \u001B[1;32mIn[125], line 7\u001B[0m\n\u001B[0;32m      5\u001B[0m \u001B[38;5;28;01mfor\u001B[39;00m path \u001B[38;5;129;01min\u001B[39;00m spamPaths\u001B[38;5;241m.\u001B[39mreadlines():\n\u001B[0;32m      6\u001B[0m     path \u001B[38;5;241m=\u001B[39m path\u001B[38;5;241m.\u001B[39mstrip()\n\u001B[1;32m----> 7\u001B[0m     spamTokens \u001B[38;5;241m=\u001B[39m spamTokens \u001B[38;5;241m+\u001B[39m \u001B[43mpreprocess\u001B[49m\u001B[43m(\u001B[49m\u001B[43mpath\u001B[49m\u001B[43m)\u001B[49m\n\u001B[0;32m      9\u001B[0m \u001B[38;5;28;01mfor\u001B[39;00m path \u001B[38;5;129;01min\u001B[39;00m hamPaths\u001B[38;5;241m.\u001B[39mreadlines():\n\u001B[0;32m     10\u001B[0m     path \u001B[38;5;241m=\u001B[39m path\u001B[38;5;241m.\u001B[39mstrip()\n",
      "Cell \u001B[1;32mIn[87], line 6\u001B[0m, in \u001B[0;36mpreprocess\u001B[1;34m(path)\u001B[0m\n\u001B[0;32m      3\u001B[0m adressReg \u001B[38;5;241m=\u001B[39m \u001B[38;5;124mr\u001B[39m\u001B[38;5;124m\"\u001B[39m\u001B[38;5;124m\\\u001B[39m\u001B[38;5;124mb[\u001B[39m\u001B[38;5;124m\\\u001B[39m\u001B[38;5;124mw-]+@[\u001B[39m\u001B[38;5;124m\\\u001B[39m\u001B[38;5;124mw-]+\u001B[39m\u001B[38;5;124m\\\u001B[39m\u001B[38;5;124m.[A-Za-z]\u001B[39m\u001B[38;5;124m\\\u001B[39m\u001B[38;5;124mb\u001B[39m\u001B[38;5;124m\"\u001B[39m \u001B[38;5;66;03m#Regex adress email\u001B[39;00m\n\u001B[0;32m      4\u001B[0m urlReg \u001B[38;5;241m=\u001B[39m \u001B[38;5;124mr\u001B[39m\u001B[38;5;124m\"\u001B[39m\u001B[38;5;124mhttps?:\u001B[39m\u001B[38;5;124m\\\u001B[39m\u001B[38;5;124m/\u001B[39m\u001B[38;5;124m\\\u001B[39m\u001B[38;5;124m/(www\u001B[39m\u001B[38;5;124m\\\u001B[39m\u001B[38;5;124m.)?[-a-zA-Z0-9@:\u001B[39m\u001B[38;5;124m%\u001B[39m\u001B[38;5;124m._\u001B[39m\u001B[38;5;124m\\\u001B[39m\u001B[38;5;124m+~#=]\u001B[39m\u001B[38;5;124m{\u001B[39m\u001B[38;5;124m1,256}\u001B[39m\u001B[38;5;124m\\\u001B[39m\u001B[38;5;124m.[a-zA-Z0-9()]\u001B[39m\u001B[38;5;124m{\u001B[39m\u001B[38;5;124m1,6}\u001B[39m\u001B[38;5;124m\\\u001B[39m\u001B[38;5;124mb([-a-zA-Z0-9()@:\u001B[39m\u001B[38;5;124m%\u001B[39m\u001B[38;5;124m_\u001B[39m\u001B[38;5;124m\\\u001B[39m\u001B[38;5;124m+.~#?&//=]*)\u001B[39m\u001B[38;5;124m\"\u001B[39m \u001B[38;5;66;03m#Regex URL\u001B[39;00m\n\u001B[1;32m----> 6\u001B[0m clearTextEmail \u001B[38;5;241m=\u001B[39m \u001B[43mclean_email\u001B[49m\u001B[43m(\u001B[49m\u001B[43mpath\u001B[49m\u001B[43m)\u001B[49m\n\u001B[0;32m      7\u001B[0m clearTextEmail \u001B[38;5;241m=\u001B[39m re\u001B[38;5;241m.\u001B[39msub(adressReg, \u001B[38;5;124m\"\u001B[39m\u001B[38;5;124m emailaddr \u001B[39m\u001B[38;5;124m\"\u001B[39m, clearTextEmail)\n\u001B[0;32m      8\u001B[0m clearTextEmail \u001B[38;5;241m=\u001B[39m re\u001B[38;5;241m.\u001B[39msub(urlReg, \u001B[38;5;124m\"\u001B[39m\u001B[38;5;124m httpaddr \u001B[39m\u001B[38;5;124m\"\u001B[39m, clearTextEmail)\n",
      "Cell \u001B[1;32mIn[91], line 11\u001B[0m, in \u001B[0;36mclean_email\u001B[1;34m(path)\u001B[0m\n\u001B[0;32m      9\u001B[0m tokensList \u001B[38;5;241m=\u001B[39m []\n\u001B[0;32m     10\u001B[0m fileName \u001B[38;5;241m=\u001B[39m path\u001B[38;5;241m.\u001B[39msplit(\u001B[38;5;124m'\u001B[39m\u001B[38;5;124m/\u001B[39m\u001B[38;5;124m'\u001B[39m)[\u001B[38;5;241m-\u001B[39m\u001B[38;5;241m1\u001B[39m]\n\u001B[1;32m---> 11\u001B[0m encoding \u001B[38;5;241m=\u001B[39m \u001B[43mfrom_path\u001B[49m\u001B[43m(\u001B[49m\u001B[43mfileName\u001B[49m\u001B[43m)\u001B[49m\u001B[38;5;241m.\u001B[39mbest()\u001B[38;5;241m.\u001B[39mencoding\n\u001B[0;32m     13\u001B[0m \u001B[38;5;28;01mwith\u001B[39;00m \u001B[38;5;28mopen\u001B[39m(fileName, \u001B[38;5;124m\"\u001B[39m\u001B[38;5;124mr\u001B[39m\u001B[38;5;124m\"\u001B[39m, encoding\u001B[38;5;241m=\u001B[39mencoding) \u001B[38;5;28;01mas\u001B[39;00m email:\n\u001B[0;32m     14\u001B[0m     content \u001B[38;5;241m=\u001B[39m \u001B[38;5;124m'\u001B[39m\u001B[38;5;124m'\u001B[39m\u001B[38;5;241m.\u001B[39mjoin(line \u001B[38;5;28;01mfor\u001B[39;00m line \u001B[38;5;129;01min\u001B[39;00m email \u001B[38;5;28;01mif\u001B[39;00m \u001B[38;5;129;01mnot\u001B[39;00m re\u001B[38;5;241m.\u001B[39msearch(combined_pattern, line))\n",
      "File \u001B[1;32m~\\AppData\\Local\\Programs\\Python\\Python311\\Lib\\site-packages\\charset_normalizer\\api.py:543\u001B[0m, in \u001B[0;36mfrom_path\u001B[1;34m(path, steps, chunk_size, threshold, cp_isolation, cp_exclusion, preemptive_behaviour, explain, language_threshold)\u001B[0m\n\u001B[0;32m    528\u001B[0m \u001B[38;5;28;01mdef\u001B[39;00m \u001B[38;5;21mfrom_path\u001B[39m(\n\u001B[0;32m    529\u001B[0m     path: \u001B[38;5;124m\"\u001B[39m\u001B[38;5;124mPathLike[Any]\u001B[39m\u001B[38;5;124m\"\u001B[39m,\n\u001B[0;32m    530\u001B[0m     steps: \u001B[38;5;28mint\u001B[39m \u001B[38;5;241m=\u001B[39m \u001B[38;5;241m5\u001B[39m,\n\u001B[1;32m   (...)\u001B[0m\n\u001B[0;32m    537\u001B[0m     language_threshold: \u001B[38;5;28mfloat\u001B[39m \u001B[38;5;241m=\u001B[39m \u001B[38;5;241m0.1\u001B[39m,\n\u001B[0;32m    538\u001B[0m ) \u001B[38;5;241m-\u001B[39m\u001B[38;5;241m>\u001B[39m CharsetMatches:\n\u001B[0;32m    539\u001B[0m \u001B[38;5;250m    \u001B[39m\u001B[38;5;124;03m\"\"\"\u001B[39;00m\n\u001B[0;32m    540\u001B[0m \u001B[38;5;124;03m    Same thing than the function from_bytes but with one extra step. Opening and reading given file path in binary mode.\u001B[39;00m\n\u001B[0;32m    541\u001B[0m \u001B[38;5;124;03m    Can raise IOError.\u001B[39;00m\n\u001B[0;32m    542\u001B[0m \u001B[38;5;124;03m    \"\"\"\u001B[39;00m\n\u001B[1;32m--> 543\u001B[0m     \u001B[38;5;28;01mwith\u001B[39;00m \u001B[38;5;28mopen\u001B[39m(path, \u001B[38;5;124m\"\u001B[39m\u001B[38;5;124mrb\u001B[39m\u001B[38;5;124m\"\u001B[39m) \u001B[38;5;28;01mas\u001B[39;00m fp:\n\u001B[0;32m    544\u001B[0m         \u001B[38;5;28;01mreturn\u001B[39;00m from_fp(\n\u001B[0;32m    545\u001B[0m             fp,\n\u001B[0;32m    546\u001B[0m             steps,\n\u001B[1;32m   (...)\u001B[0m\n\u001B[0;32m    553\u001B[0m             language_threshold,\n\u001B[0;32m    554\u001B[0m         )\n",
      "\u001B[1;31mFileNotFoundError\u001B[0m: [Errno 2] No such file or directory: '00001.317e78fa8ee2f54cd4890fdc09ba8176'"
     ]
    }
   ],
   "source": [
    "spamPaths = open(r'pathFiles/spamPaths.txt', 'r')\n",
    "hamPaths = open(r'pathFiles/hamPaths.txt', 'r')\n",
    "spamTokens = []\n",
    "hamTokens = []\n",
    "for path in spamPaths.readlines():\n",
    "    path = path.strip()\n",
    "    spamTokens = spamTokens + preprocess(path)\n",
    "\n",
    "for path in hamPaths.readlines():\n",
    "    path = path.strip()\n",
    "    hamTokens = hamTokens + preprocess(path)\n",
    "\n",
    "\n",
    "print(len(spamTokens))\n",
    "print(len(hamTokens))\n"
   ],
   "metadata": {
    "collapsed": false
   }
  },
  {
   "cell_type": "code",
   "execution_count": null,
   "outputs": [],
   "source": [],
   "metadata": {
    "collapsed": false
   }
  }
 ],
 "metadata": {
  "kernelspec": {
   "display_name": "Python 3",
   "language": "python",
   "name": "python3"
  },
  "language_info": {
   "codemirror_mode": {
    "name": "ipython",
    "version": 2
   },
   "file_extension": ".py",
   "mimetype": "text/x-python",
   "name": "python",
   "nbconvert_exporter": "python",
   "pygments_lexer": "ipython2",
   "version": "2.7.6"
  }
 },
 "nbformat": 4,
 "nbformat_minor": 0
}
